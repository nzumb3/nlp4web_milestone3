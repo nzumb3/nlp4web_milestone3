{
 "cells": [
  {
   "cell_type": "code",
   "execution_count": 1,
   "metadata": {},
   "outputs": [],
   "source": [
    "import pandas as pd\n",
    "import numpy as np\n",
    "from scipy import stats\n",
    "\n",
    "import matplotlib\n",
    "%matplotlib inline\n",
    "import matplotlib.pyplot as plt\n",
    "import seaborn as sns"
   ]
  },
  {
   "cell_type": "code",
   "execution_count": 2,
   "metadata": {},
   "outputs": [],
   "source": [
    "data = pd.read_csv(\"/home/bene/Documents/Git_Repositories/nlp4web_milestone3/data/190130_data_cleaned.csv\")"
   ]
  },
  {
   "cell_type": "code",
   "execution_count": 3,
   "metadata": {},
   "outputs": [
    {
     "data": {
      "text/html": [
       "<div>\n",
       "<style scoped>\n",
       "    .dataframe tbody tr th:only-of-type {\n",
       "        vertical-align: middle;\n",
       "    }\n",
       "\n",
       "    .dataframe tbody tr th {\n",
       "        vertical-align: top;\n",
       "    }\n",
       "\n",
       "    .dataframe thead th {\n",
       "        text-align: right;\n",
       "    }\n",
       "</style>\n",
       "<table border=\"1\" class=\"dataframe\">\n",
       "  <thead>\n",
       "    <tr style=\"text-align: right;\">\n",
       "      <th></th>\n",
       "      <th>tconst</th>\n",
       "      <th>primaryTitle</th>\n",
       "      <th>startYear</th>\n",
       "      <th>Genre_1</th>\n",
       "      <th>Genre_2</th>\n",
       "      <th>Genre_3</th>\n",
       "      <th>Plot</th>\n",
       "      <th>isError</th>\n",
       "    </tr>\n",
       "  </thead>\n",
       "  <tbody>\n",
       "    <tr>\n",
       "      <th>0</th>\n",
       "      <td>tt8185182</td>\n",
       "      <td>Long Day's Journey Into Night</td>\n",
       "      <td>2018</td>\n",
       "      <td>Drama</td>\n",
       "      <td>Mystery</td>\n",
       "      <td>None</td>\n",
       "      <td>A man went back to Guizhou, found the tracks o...</td>\n",
       "      <td>False</td>\n",
       "    </tr>\n",
       "    <tr>\n",
       "      <th>1</th>\n",
       "      <td>tt7658384</td>\n",
       "      <td>The Quietude</td>\n",
       "      <td>2018</td>\n",
       "      <td>Drama</td>\n",
       "      <td>Thriller</td>\n",
       "      <td>None</td>\n",
       "      <td>Two sisters, as close as they are different, f...</td>\n",
       "      <td>False</td>\n",
       "    </tr>\n",
       "    <tr>\n",
       "      <th>2</th>\n",
       "      <td>tt7681126</td>\n",
       "      <td>The Drum Maker</td>\n",
       "      <td>2018</td>\n",
       "      <td>Biography</td>\n",
       "      <td>Documentary</td>\n",
       "      <td>History</td>\n",
       "      <td>Following the triumph and struggles of a Metis...</td>\n",
       "      <td>False</td>\n",
       "    </tr>\n",
       "    <tr>\n",
       "      <th>3</th>\n",
       "      <td>tt7670220</td>\n",
       "      <td>I Am Gary Johnson</td>\n",
       "      <td>2018</td>\n",
       "      <td>Documentary</td>\n",
       "      <td>None</td>\n",
       "      <td>None</td>\n",
       "      <td>I Am Gary Features compelling footage from the...</td>\n",
       "      <td>False</td>\n",
       "    </tr>\n",
       "    <tr>\n",
       "      <th>4</th>\n",
       "      <td>tt7681112</td>\n",
       "      <td>Yours in Sisterhood</td>\n",
       "      <td>2018</td>\n",
       "      <td>Documentary</td>\n",
       "      <td>History</td>\n",
       "      <td>None</td>\n",
       "      <td>What might be revealed in the slippery space o...</td>\n",
       "      <td>False</td>\n",
       "    </tr>\n",
       "  </tbody>\n",
       "</table>\n",
       "</div>"
      ],
      "text/plain": [
       "      tconst                   primaryTitle  startYear      Genre_1  \\\n",
       "0  tt8185182  Long Day's Journey Into Night       2018        Drama   \n",
       "1  tt7658384                   The Quietude       2018        Drama   \n",
       "2  tt7681126                 The Drum Maker       2018    Biography   \n",
       "3  tt7670220              I Am Gary Johnson       2018  Documentary   \n",
       "4  tt7681112            Yours in Sisterhood       2018  Documentary   \n",
       "\n",
       "       Genre_2  Genre_3                                               Plot  \\\n",
       "0      Mystery     None  A man went back to Guizhou, found the tracks o...   \n",
       "1     Thriller     None  Two sisters, as close as they are different, f...   \n",
       "2  Documentary  History  Following the triumph and struggles of a Metis...   \n",
       "3         None     None  I Am Gary Features compelling footage from the...   \n",
       "4      History     None  What might be revealed in the slippery space o...   \n",
       "\n",
       "   isError  \n",
       "0    False  \n",
       "1    False  \n",
       "2    False  \n",
       "3    False  \n",
       "4    False  "
      ]
     },
     "execution_count": 3,
     "metadata": {},
     "output_type": "execute_result"
    }
   ],
   "source": [
    "data.head()"
   ]
  },
  {
   "cell_type": "markdown",
   "metadata": {},
   "source": [
    "# Movie Genre Distribution <br>\n",
    "How many Movies have 1, 2 or 3 Genres? <br>\n",
    "What's the distribution of the genres over the dataset?"
   ]
  },
  {
   "cell_type": "code",
   "execution_count": 27,
   "metadata": {},
   "outputs": [
    {
     "data": {
      "text/plain": [
       "Text(0.5,1,'Distribution of the Number of Genres')"
      ]
     },
     "execution_count": 27,
     "metadata": {},
     "output_type": "execute_result"
    },
    {
     "data": {
      "image/png": "[encoded data removed]",
      "text/plain": [
       "<Figure size 432x288 with 1 Axes>"
      ]
     },
     "metadata": {
      "needs_background": "light"
     },
     "output_type": "display_data"
    }
   ],
   "source": [
    "plot = {\"zero\":0, \"one\":0, \"two\":0, \"three\":0}\n",
    "for row in data[[\"Genre_1\",\"Genre_2\",\"Genre_3\"]].values:\n",
    "    if row[0] == \"None\":\n",
    "        plot[\"zero\"]+=1\n",
    "    elif row[1] == \"None\":\n",
    "        plot[\"one\"]+=1\n",
    "    elif row[2] == \"None\":\n",
    "        plot[\"two\"]+=1\n",
    "    else:\n",
    "        plot[\"three\"]+=1\n",
    "total=0\n",
    "colors=[\"darkslateblue\", \"green\", \"darkgoldenrod\", \"lightseagreen\"]\n",
    "i=0\n",
    "for key in plot:\n",
    "    plt.bar(key, plot[key], color=colors[0])\n",
    "    total+=plot[key]\n",
    "    i+=1\n",
    "plt.grid()\n",
    "plt.xlabel(\"Number of Genres\", fontsize=12)\n",
    "plt.ylabel(\"#Movie\", fontsize=12)\n",
    "plt.title(\"Distribution of the Number of Genres\", fontsize=14)"
   ]
  },
  {
   "cell_type": "code",
   "execution_count": 28,
   "metadata": {},
   "outputs": [
    {
     "data": {
      "text/plain": [
       "Text(0.5,1,'Distribution of the Number of Genres')"
      ]
     },
     "execution_count": 28,
     "metadata": {},
     "output_type": "execute_result"
    },
    {
     "data": {
      "image/png": "[encoded data removed]",
      "text/plain": [
       "<Figure size 432x288 with 1 Axes>"
      ]
     },
     "metadata": {
      "needs_background": "light"
     },
     "output_type": "display_data"
    }
   ],
   "source": [
    "i=0\n",
    "for key in plot:\n",
    "    plt.bar(key, plot[key]/total, color=colors[0])\n",
    "    i+=1\n",
    "plt.grid()\n",
    "plt.xlabel(\"Number of Genres\", fontsize=12)\n",
    "plt.ylabel(\"% of Movies\", fontsize=12)\n",
    "plt.title(\"Distribution of the Number of Genres\", fontsize=14)"
   ]
  },
  {
   "cell_type": "code",
   "execution_count": 33,
   "metadata": {},
   "outputs": [
    {
     "name": "stdout",
     "output_type": "stream",
     "text": [
      "We have 27 distinct Genres\n"
     ]
    }
   ],
   "source": [
    "plot={}\n",
    "total=0\n",
    "for row in data[[\"Genre_1\",\"Genre_2\",\"Genre_3\"]].values:\n",
    "    if row[0] not in plot and row[0] != \"None\":\n",
    "        plot[row[0]] = {\"rank_1\":0, \"rank_2\":0, \"rank_3\":0}\n",
    "    if row[1] not in plot and row[1] != \"None\":\n",
    "        plot[row[1]] = {\"rank_1\":0, \"rank_2\":0, \"rank_3\":0}\n",
    "    if row[2] not in plot and row[2] != \"None\":\n",
    "        plot[row[2]] = {\"rank_1\":0, \"rank_2\":0, \"rank_3\":0}\n",
    "    if row[0] != \"None\":\n",
    "        plot[row[0]][\"rank_1\"]+=1\n",
    "    if row[1] != \"None\":\n",
    "        plot[row[1]][\"rank_2\"]+=1\n",
    "    if row[2] != \"None\":\n",
    "        plot[row[2]][\"rank_3\"]+=1\n",
    "    total+=1\n",
    "print(\"We have {} distinct Genres\".format(len(plot.keys())))"
   ]
  },
  {
   "cell_type": "code",
   "execution_count": 50,
   "metadata": {},
   "outputs": [
    {
     "data": {
      "text/plain": [
       "([0,\n",
       "  1,\n",
       "  2,\n",
       "  3,\n",
       "  4,\n",
       "  5,\n",
       "  6,\n",
       "  7,\n",
       "  8,\n",
       "  9,\n",
       "  10,\n",
       "  11,\n",
       "  12,\n",
       "  13,\n",
       "  14,\n",
       "  15,\n",
       "  16,\n",
       "  17,\n",
       "  18,\n",
       "  19,\n",
       "  20,\n",
       "  21,\n",
       "  22,\n",
       "  23,\n",
       "  24,\n",
       "  25,\n",
       "  26],\n",
       " <a list of 27 Text xticklabel objects>)"
      ]
     },
     "execution_count": 50,
     "metadata": {},
     "output_type": "execute_result"
    },
    {
     "data": {
      "image/png": "[encoded data removed]",
      "text/plain": [
       "<Figure size 432x288 with 1 Axes>"
      ]
     },
     "metadata": {
      "needs_background": "light"
     },
     "output_type": "display_data"
    }
   ],
   "source": [
    "for genre in plot:\n",
    "    tmp = (plot[genre][\"rank_1\"]+plot[genre][\"rank_2\"]+plot[genre][\"rank_3\"])/total\n",
    "    plt.bar(genre, tmp, color=colors[0])\n",
    "plt.grid()\n",
    "plt.xlabel(\"Movie Genre\", fontsize=12)\n",
    "plt.ylabel(\"5 of Movies\", fontsize=12)\n",
    "plt.title(\"Percentage of Movies with Genre\", fontsize=14)\n",
    "plt.xticks(rotation=270, fontsize=10, ha=\"right\")"
   ]
  },
  {
   "cell_type": "code",
   "execution_count": null,
   "metadata": {},
   "outputs": [],
   "source": []
  }
 ],
 "metadata": {
  "kernelspec": {
   "display_name": "Python 3",
   "language": "python",
   "name": "python3"
  },
  "language_info": {
   "codemirror_mode": {
    "name": "ipython",
    "version": 3
   },
   "file_extension": ".py",
   "mimetype": "text/x-python",
   "name": "python",
   "nbconvert_exporter": "python",
   "pygments_lexer": "ipython3",
   "version": "3.6.6"
  }
 },
 "nbformat": 4,
 "nbformat_minor": 2
}
